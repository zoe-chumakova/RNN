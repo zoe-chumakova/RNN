{
 "cells": [
  {
   "cell_type": "markdown",
   "metadata": {
    "id": "xpAuMVCwfWs8"
   },
   "source": [
    "# Recurrent Neural Network - Tesla Stock Movement Prediction"
   ]
  },
  {
   "cell_type": "markdown",
   "metadata": {
    "id": "nxJfRe4bfYVA"
   },
   "source": [
    "## Part 1 - Data Preprocessing"
   ]
  },
  {
   "cell_type": "markdown",
   "metadata": {
    "id": "ir9zwETrfbrp"
   },
   "source": [
    "### Importing the libraries"
   ]
  },
  {
   "cell_type": "code",
   "execution_count": 1,
   "metadata": {
    "executionInfo": {
     "elapsed": 341,
     "status": "ok",
     "timestamp": 1612967714086,
     "user": {
      "displayName": "Jordan Sauchuk",
      "photoUrl": "",
      "userId": "08387430205938821804"
     },
     "user_tz": 300
    },
    "id": "ZT1f24vHffuf"
   },
   "outputs": [],
   "source": [
    "import numpy as np\n",
    "import matplotlib.pyplot as plt\n",
    "import pandas as pd"
   ]
  },
  {
   "cell_type": "markdown",
   "metadata": {
    "id": "nQ47JAxrgmaL"
   },
   "source": [
    "### Importing the training set"
   ]
  },
  {
   "cell_type": "code",
   "execution_count": 2,
   "metadata": {
    "executionInfo": {
     "elapsed": 499,
     "status": "ok",
     "timestamp": 1612967714249,
     "user": {
      "displayName": "Jordan Sauchuk",
      "photoUrl": "",
      "userId": "08387430205938821804"
     },
     "user_tz": 300
    },
    "id": "1xiv3pJOgqY3"
   },
   "outputs": [],
   "source": [
    "dataset_train = pd.read_csv('TSLA_Train.csv')\n",
    "training_set = dataset_train.iloc[:, 1:2].values  # iloc method will take all rows and the second column \"Open\" to get numpy array of one column"
   ]
  },
  {
   "cell_type": "code",
   "execution_count": 3,
   "metadata": {},
   "outputs": [
    {
     "data": {
      "text/plain": [
       "1258"
      ]
     },
     "execution_count": 3,
     "metadata": {},
     "output_type": "execute_result"
    }
   ],
   "source": [
    "len(training_set)"
   ]
  },
  {
   "cell_type": "code",
   "execution_count": 4,
   "metadata": {},
   "outputs": [
    {
     "data": {
      "text/plain": [
       "numpy.ndarray"
      ]
     },
     "execution_count": 4,
     "metadata": {},
     "output_type": "execute_result"
    }
   ],
   "source": [
    "type(training_set)"
   ]
  },
  {
   "cell_type": "code",
   "execution_count": 5,
   "metadata": {},
   "outputs": [
    {
     "data": {
      "text/plain": [
       "array([[  42.972   ],\n",
       "       [  42.950001],\n",
       "       [  45.284   ],\n",
       "       ...,\n",
       "       [1109.48999 ],\n",
       "       [1098.640015],\n",
       "       [1061.329956]])"
      ]
     },
     "execution_count": 5,
     "metadata": {},
     "output_type": "execute_result"
    }
   ],
   "source": [
    "training_set"
   ]
  },
  {
   "cell_type": "markdown",
   "metadata": {
    "id": "HT8_2UJegtG5"
   },
   "source": [
    "### Feature Scaling"
   ]
  },
  {
   "cell_type": "code",
   "execution_count": 6,
   "metadata": {
    "executionInfo": {
     "elapsed": 1407,
     "status": "ok",
     "timestamp": 1612967715159,
     "user": {
      "displayName": "Jordan Sauchuk",
      "photoUrl": "",
      "userId": "08387430205938821804"
     },
     "user_tz": 300
    },
    "id": "OTrF2kR7gx9x"
   },
   "outputs": [],
   "source": [
    "from sklearn.preprocessing import MinMaxScaler\n",
    "sc = MinMaxScaler(feature_range = (0, 1)) # scaler to have values between 0 and 1\n",
    "training_set_scaled = sc.fit_transform(training_set) "
   ]
  },
  {
   "cell_type": "code",
   "execution_count": 7,
   "metadata": {},
   "outputs": [
    {
     "data": {
      "text/plain": [
       "array([[0.00563517],\n",
       "       [0.00561681],\n",
       "       [0.00756474],\n",
       "       ...,\n",
       "       [0.89574271],\n",
       "       [0.88668741],\n",
       "       [0.85554872]])"
      ]
     },
     "execution_count": 7,
     "metadata": {},
     "output_type": "execute_result"
    }
   ],
   "source": [
    "training_set_scaled"
   ]
  },
  {
   "cell_type": "markdown",
   "metadata": {
    "id": "JyYgYocqhNUg"
   },
   "source": [
    "### Creating a data structure with 60 timesteps and 1 output"
   ]
  },
  {
   "cell_type": "code",
   "execution_count": 8,
   "metadata": {
    "executionInfo": {
     "elapsed": 1406,
     "status": "ok",
     "timestamp": 1612967715160,
     "user": {
      "displayName": "Jordan Sauchuk",
      "photoUrl": "",
      "userId": "08387430205938821804"
     },
     "user_tz": 300
    },
    "id": "iofU21B0i6ST"
   },
   "outputs": [],
   "source": [
    "#60 timesteps coresponding to 60 previos days which is about 3 months since each month has 20 business days\n",
    "X_train = [] # input\n",
    "y_train = [] # output\n",
    "for i in range(60, 1258):\n",
    "    X_train.append(training_set_scaled[i-60:i, 0])\n",
    "    y_train.append(training_set_scaled[i, 0])\n",
    "X_train, y_train = np.array(X_train), np.array(y_train)"
   ]
  },
  {
   "cell_type": "code",
   "execution_count": 9,
   "metadata": {},
   "outputs": [
    {
     "data": {
      "text/plain": [
       "(1198, 1198)"
      ]
     },
     "execution_count": 9,
     "metadata": {},
     "output_type": "execute_result"
    }
   ],
   "source": [
    "len(X_train), len(y_train)"
   ]
  },
  {
   "cell_type": "code",
   "execution_count": 10,
   "metadata": {},
   "outputs": [
    {
     "data": {
      "text/plain": [
       "2"
      ]
     },
     "execution_count": 10,
     "metadata": {},
     "output_type": "execute_result"
    }
   ],
   "source": [
    "np.ndim(X_train)"
   ]
  },
  {
   "cell_type": "code",
   "execution_count": 11,
   "metadata": {},
   "outputs": [
    {
     "data": {
      "text/plain": [
       "1"
      ]
     },
     "execution_count": 11,
     "metadata": {},
     "output_type": "execute_result"
    }
   ],
   "source": [
    "np.ndim(y_train)"
   ]
  },
  {
   "cell_type": "markdown",
   "metadata": {
    "id": "D8yaN7Zvi95l"
   },
   "source": [
    "### Reshaping"
   ]
  },
  {
   "cell_type": "code",
   "execution_count": 12,
   "metadata": {
    "executionInfo": {
     "elapsed": 1405,
     "status": "ok",
     "timestamp": 1612967715161,
     "user": {
      "displayName": "Jordan Sauchuk",
      "photoUrl": "",
      "userId": "08387430205938821804"
     },
     "user_tz": 300
    },
    "id": "FOXqJHmNjBkz"
   },
   "outputs": [],
   "source": [
    "# keras documentation : 3D tensor with shape [batch_size, timesteps, feature]\n",
    "X_train = np.reshape(X_train, (X_train.shape[0], X_train.shape[1], 1))"
   ]
  },
  {
   "cell_type": "code",
   "execution_count": 13,
   "metadata": {},
   "outputs": [
    {
     "data": {
      "text/plain": [
       "60"
      ]
     },
     "execution_count": 13,
     "metadata": {},
     "output_type": "execute_result"
    }
   ],
   "source": [
    "X_train.shape[1]"
   ]
  },
  {
   "cell_type": "code",
   "execution_count": 14,
   "metadata": {},
   "outputs": [
    {
     "data": {
      "text/plain": [
       "1198"
      ]
     },
     "execution_count": 14,
     "metadata": {},
     "output_type": "execute_result"
    }
   ],
   "source": [
    "X_train.shape[0]"
   ]
  },
  {
   "cell_type": "code",
   "execution_count": 15,
   "metadata": {},
   "outputs": [
    {
     "data": {
      "text/plain": [
       "3"
      ]
     },
     "execution_count": 15,
     "metadata": {},
     "output_type": "execute_result"
    }
   ],
   "source": [
    "np.ndim(X_train)"
   ]
  },
  {
   "cell_type": "markdown",
   "metadata": {
    "id": "ZRRSOJeVjEWV"
   },
   "source": [
    "## Part 2 - Building and Training the RNN"
   ]
  },
  {
   "cell_type": "markdown",
   "metadata": {
    "id": "k4XV88JMjHXG"
   },
   "source": [
    "### Importing the Keras libraries and packages"
   ]
  },
  {
   "cell_type": "code",
   "execution_count": 16,
   "metadata": {
    "executionInfo": {
     "elapsed": 3240,
     "status": "ok",
     "timestamp": 1612967716998,
     "user": {
      "displayName": "Jordan Sauchuk",
      "photoUrl": "",
      "userId": "08387430205938821804"
     },
     "user_tz": 300
    },
    "id": "9JRnqsxEjKsD"
   },
   "outputs": [],
   "source": [
    "from keras.models import Sequential\n",
    "from keras.layers import Dense\n",
    "from keras.layers import LSTM\n",
    "from keras.layers import Dropout"
   ]
  },
  {
   "cell_type": "markdown",
   "metadata": {
    "id": "FEIE-1s9jNzC"
   },
   "source": [
    "### Initialising the RNN"
   ]
  },
  {
   "cell_type": "code",
   "execution_count": 17,
   "metadata": {
    "executionInfo": {
     "elapsed": 3433,
     "status": "ok",
     "timestamp": 1612967717193,
     "user": {
      "displayName": "Jordan Sauchuk",
      "photoUrl": "",
      "userId": "08387430205938821804"
     },
     "user_tz": 300
    },
    "id": "1338dJ0UjRKH"
   },
   "outputs": [],
   "source": [
    "regressor = Sequential() # sequence of layers"
   ]
  },
  {
   "cell_type": "markdown",
   "metadata": {
    "id": "62eg1OPGjT8z"
   },
   "source": [
    "### Adding the first LSTM layer and some Dropout regularisation"
   ]
  },
  {
   "cell_type": "code",
   "execution_count": 18,
   "metadata": {
    "executionInfo": {
     "elapsed": 1104,
     "status": "ok",
     "timestamp": 1612967810288,
     "user": {
      "displayName": "Jordan Sauchuk",
      "photoUrl": "",
      "userId": "08387430205938821804"
     },
     "user_tz": 300
    },
    "id": "2hIinyXUjbVU"
   },
   "outputs": [],
   "source": [
    "regressor.add(LSTM(units = 50, return_sequences = True, input_shape = (X_train.shape[1], 1)))\n",
    "regressor.add(Dropout(0.2)) # we will drop 20% of neurons"
   ]
  },
  {
   "cell_type": "markdown",
   "metadata": {
    "id": "3XBIYLyOjlMx"
   },
   "source": [
    "### Adding a second LSTM layer and some Dropout regularisation"
   ]
  },
  {
   "cell_type": "code",
   "execution_count": 19,
   "metadata": {
    "executionInfo": {
     "elapsed": 693,
     "status": "ok",
     "timestamp": 1612967814014,
     "user": {
      "displayName": "Jordan Sauchuk",
      "photoUrl": "",
      "userId": "08387430205938821804"
     },
     "user_tz": 300
    },
    "id": "UG7nrVaSjuZ2"
   },
   "outputs": [],
   "source": [
    "regressor.add(LSTM(units = 50, return_sequences = True))\n",
    "regressor.add(Dropout(0.2))"
   ]
  },
  {
   "cell_type": "markdown",
   "metadata": {
    "id": "Ey3fHVnGj1cu"
   },
   "source": [
    "### Adding a third LSTM layer and some Dropout regularisation"
   ]
  },
  {
   "cell_type": "code",
   "execution_count": 20,
   "metadata": {
    "executionInfo": {
     "elapsed": 483,
     "status": "ok",
     "timestamp": 1612967815433,
     "user": {
      "displayName": "Jordan Sauchuk",
      "photoUrl": "",
      "userId": "08387430205938821804"
     },
     "user_tz": 300
    },
    "id": "PuNi6PgFj7jO"
   },
   "outputs": [],
   "source": [
    "regressor.add(LSTM(units = 50, return_sequences = True))\n",
    "regressor.add(Dropout(0.2))"
   ]
  },
  {
   "cell_type": "markdown",
   "metadata": {
    "id": "SYTrtfTmj933"
   },
   "source": [
    "### Adding a fourth LSTM layer and some Dropout regularisation"
   ]
  },
  {
   "cell_type": "code",
   "execution_count": 21,
   "metadata": {
    "executionInfo": {
     "elapsed": 661,
     "status": "ok",
     "timestamp": 1612967817090,
     "user": {
      "displayName": "Jordan Sauchuk",
      "photoUrl": "",
      "userId": "08387430205938821804"
     },
     "user_tz": 300
    },
    "id": "Jp4Ty8fRkBYV"
   },
   "outputs": [],
   "source": [
    "regressor.add(LSTM(units = 50))\n",
    "regressor.add(Dropout(0.2))"
   ]
  },
  {
   "cell_type": "markdown",
   "metadata": {
    "id": "9ABI6rOIkHhk"
   },
   "source": [
    "### Adding the output layer"
   ]
  },
  {
   "cell_type": "code",
   "execution_count": 22,
   "metadata": {
    "executionInfo": {
     "elapsed": 293,
     "status": "ok",
     "timestamp": 1612967818024,
     "user": {
      "displayName": "Jordan Sauchuk",
      "photoUrl": "",
      "userId": "08387430205938821804"
     },
     "user_tz": 300
    },
    "id": "aM6R1z4WkME8"
   },
   "outputs": [],
   "source": [
    "regressor.add(Dense(units = 1))"
   ]
  },
  {
   "cell_type": "markdown",
   "metadata": {
    "id": "zLx4K7uUkPSh"
   },
   "source": [
    "### Compiling the RNN"
   ]
  },
  {
   "cell_type": "code",
   "execution_count": 23,
   "metadata": {
    "executionInfo": {
     "elapsed": 400,
     "status": "ok",
     "timestamp": 1612967819550,
     "user": {
      "displayName": "Jordan Sauchuk",
      "photoUrl": "",
      "userId": "08387430205938821804"
     },
     "user_tz": 300
    },
    "id": "XTrhVN-tkbko"
   },
   "outputs": [],
   "source": [
    "regressor.compile(optimizer = 'adam', loss = 'mean_squared_error')"
   ]
  },
  {
   "cell_type": "markdown",
   "metadata": {
    "id": "-mPhwKGkkebi"
   },
   "source": [
    "### Fitting the RNN to the Training set"
   ]
  },
  {
   "cell_type": "code",
   "execution_count": 24,
   "metadata": {
    "colab": {
     "base_uri": "https://localhost:8080/"
    },
    "executionInfo": {
     "elapsed": 603900,
     "status": "ok",
     "timestamp": 1612968424132,
     "user": {
      "displayName": "Jordan Sauchuk",
      "photoUrl": "",
      "userId": "08387430205938821804"
     },
     "user_tz": 300
    },
    "id": "I06Nkrz5kkb-",
    "outputId": "2c758322-7999-42f2-9e89-cbd89cc99941"
   },
   "outputs": [
    {
     "name": "stdout",
     "output_type": "stream",
     "text": [
      "Epoch 1/100\n",
      "38/38 [==============================] - 10s 90ms/step - loss: 0.0137\n",
      "Epoch 2/100\n",
      "38/38 [==============================] - 3s 91ms/step - loss: 0.0028: 1s - loss: 0.0 - ETA: 1s -\n",
      "Epoch 3/100\n",
      "38/38 [==============================] - 3s 88ms/step - loss: 0.0027\n",
      "Epoch 4/100\n",
      "38/38 [==============================] - 3s 89ms/step - loss: 0.0027\n",
      "Epoch 5/100\n",
      "38/38 [==============================] - 3s 90ms/step - loss: 0.0026\n",
      "Epoch 6/100\n",
      "38/38 [==============================] - 4s 95ms/step - loss: 0.0031\n",
      "Epoch 7/100\n",
      "38/38 [==============================] - 3s 92ms/step - loss: 0.0027\n",
      "Epoch 8/100\n",
      "38/38 [==============================] - 3s 90ms/step - loss: 0.0022\n",
      "Epoch 9/100\n",
      "38/38 [==============================] - 3s 91ms/step - loss: 0.0026\n",
      "Epoch 10/100\n",
      "38/38 [==============================] - 3s 91ms/step - loss: 0.0019\n",
      "Epoch 11/100\n",
      "38/38 [==============================] - 3s 91ms/step - loss: 0.0019\n",
      "Epoch 12/100\n",
      "38/38 [==============================] - 3s 91ms/step - loss: 0.0019\n",
      "Epoch 13/100\n",
      "38/38 [==============================] - 3s 91ms/step - loss: 0.0019\n",
      "Epoch 14/100\n",
      "38/38 [==============================] - 3s 91ms/step - loss: 0.0019\n",
      "Epoch 15/100\n",
      "38/38 [==============================] - 3s 92ms/step - loss: 0.0022\n",
      "Epoch 16/100\n",
      "38/38 [==============================] - 4s 93ms/step - loss: 0.0018\n",
      "Epoch 17/100\n",
      "38/38 [==============================] - 4s 96ms/step - loss: 0.0018\n",
      "Epoch 18/100\n",
      "38/38 [==============================] - 4s 95ms/step - loss: 0.0017\n",
      "Epoch 19/100\n",
      "38/38 [==============================] - 4s 96ms/step - loss: 0.0019\n",
      "Epoch 20/100\n",
      "38/38 [==============================] - 4s 96ms/step - loss: 0.0019\n",
      "Epoch 21/100\n",
      "38/38 [==============================] - 4s 101ms/step - loss: 0.0017\n",
      "Epoch 22/100\n",
      "38/38 [==============================] - 4s 95ms/step - loss: 0.0021\n",
      "Epoch 23/100\n",
      "38/38 [==============================] - 4s 96ms/step - loss: 0.0016\n",
      "Epoch 24/100\n",
      "38/38 [==============================] - 4s 96ms/step - loss: 0.0016\n",
      "Epoch 25/100\n",
      "38/38 [==============================] - 4s 96ms/step - loss: 0.0018\n",
      "Epoch 26/100\n",
      "38/38 [==============================] - 4s 97ms/step - loss: 0.0015\n",
      "Epoch 27/100\n",
      "38/38 [==============================] - 4s 96ms/step - loss: 0.0016\n",
      "Epoch 28/100\n",
      "38/38 [==============================] - 4s 96ms/step - loss: 0.0013\n",
      "Epoch 29/100\n",
      "38/38 [==============================] - 4s 96ms/step - loss: 0.0015\n",
      "Epoch 30/100\n",
      "38/38 [==============================] - 4s 95ms/step - loss: 0.0016\n",
      "Epoch 31/100\n",
      "38/38 [==============================] - 4s 96ms/step - loss: 0.0014\n",
      "Epoch 32/100\n",
      "38/38 [==============================] - 4s 96ms/step - loss: 0.0014\n",
      "Epoch 33/100\n",
      "38/38 [==============================] - 4s 97ms/step - loss: 0.0012\n",
      "Epoch 34/100\n",
      "38/38 [==============================] - 4s 96ms/step - loss: 0.0016\n",
      "Epoch 35/100\n",
      "38/38 [==============================] - 4s 96ms/step - loss: 0.0013\n",
      "Epoch 36/100\n",
      "38/38 [==============================] - 4s 95ms/step - loss: 0.0014\n",
      "Epoch 37/100\n",
      "38/38 [==============================] - 4s 95ms/step - loss: 0.0013\n",
      "Epoch 38/100\n",
      "38/38 [==============================] - 4s 106ms/step - loss: 0.0014\n",
      "Epoch 39/100\n",
      "38/38 [==============================] - 4s 95ms/step - loss: 0.0013\n",
      "Epoch 40/100\n",
      "38/38 [==============================] - 4s 95ms/step - loss: 0.0013\n",
      "Epoch 41/100\n",
      "38/38 [==============================] - 4s 95ms/step - loss: 0.0015\n",
      "Epoch 42/100\n",
      "38/38 [==============================] - 4s 95ms/step - loss: 0.0012\n",
      "Epoch 43/100\n",
      "38/38 [==============================] - 4s 95ms/step - loss: 0.0011\n",
      "Epoch 44/100\n",
      "38/38 [==============================] - 4s 95ms/step - loss: 0.0013\n",
      "Epoch 45/100\n",
      "38/38 [==============================] - 4s 96ms/step - loss: 0.0011\n",
      "Epoch 46/100\n",
      "38/38 [==============================] - 4s 95ms/step - loss: 0.0013\n",
      "Epoch 47/100\n",
      "38/38 [==============================] - 4s 94ms/step - loss: 0.0014\n",
      "Epoch 48/100\n",
      "38/38 [==============================] - 4s 96ms/step - loss: 0.0012\n",
      "Epoch 49/100\n",
      "38/38 [==============================] - 4s 95ms/step - loss: 0.0011\n",
      "Epoch 50/100\n",
      "38/38 [==============================] - 4s 97ms/step - loss: 0.0011\n",
      "Epoch 51/100\n",
      "38/38 [==============================] - 4s 96ms/step - loss: 0.0012\n",
      "Epoch 52/100\n",
      "38/38 [==============================] - 4s 96ms/step - loss: 0.0013\n",
      "Epoch 53/100\n",
      "38/38 [==============================] - 3s 91ms/step - loss: 0.0011\n",
      "Epoch 54/100\n",
      "38/38 [==============================] - 4s 94ms/step - loss: 0.0011\n",
      "Epoch 55/100\n",
      "38/38 [==============================] - 4s 105ms/step - loss: 0.0012\n",
      "Epoch 56/100\n",
      "38/38 [==============================] - 4s 98ms/step - loss: 0.0012\n",
      "Epoch 57/100\n",
      "38/38 [==============================] - 4s 109ms/step - loss: 0.0013\n",
      "Epoch 58/100\n",
      "38/38 [==============================] - 4s 111ms/step - loss: 0.0012\n",
      "Epoch 59/100\n",
      "38/38 [==============================] - 4s 104ms/step - loss: 0.0011\n",
      "Epoch 60/100\n",
      "38/38 [==============================] - 4s 107ms/step - loss: 0.0012\n",
      "Epoch 61/100\n",
      "38/38 [==============================] - 5s 120ms/step - loss: 0.0013\n",
      "Epoch 62/100\n",
      "38/38 [==============================] - 6s 154ms/step - loss: 0.0012\n",
      "Epoch 63/100\n",
      "38/38 [==============================] - 4s 117ms/step - loss: 0.0011\n",
      "Epoch 64/100\n",
      "38/38 [==============================] - 5s 135ms/step - loss: 9.2500e-04\n",
      "Epoch 65/100\n",
      "38/38 [==============================] - 6s 153ms/step - loss: 0.0011\n",
      "Epoch 66/100\n",
      "38/38 [==============================] - 6s 155ms/step - loss: 9.6665e-04\n",
      "Epoch 67/100\n",
      "38/38 [==============================] - 5s 140ms/step - loss: 9.6191e-04\n",
      "Epoch 68/100\n",
      "38/38 [==============================] - 4s 99ms/step - loss: 0.0011\n",
      "Epoch 69/100\n",
      "38/38 [==============================] - 3s 90ms/step - loss: 9.5986e-04\n",
      "Epoch 70/100\n",
      "38/38 [==============================] - 3s 90ms/step - loss: 8.8292e-04\n",
      "Epoch 71/100\n",
      "38/38 [==============================] - 3s 88ms/step - loss: 0.0011\n",
      "Epoch 72/100\n",
      "38/38 [==============================] - 4s 94ms/step - loss: 9.7912e-04\n",
      "Epoch 73/100\n",
      "38/38 [==============================] - 3s 88ms/step - loss: 0.0012\n",
      "Epoch 74/100\n",
      "38/38 [==============================] - 4s 96ms/step - loss: 0.0012\n",
      "Epoch 75/100\n",
      "38/38 [==============================] - 4s 107ms/step - loss: 0.0014\n",
      "Epoch 76/100\n",
      "38/38 [==============================] - 4s 108ms/step - loss: 0.0011\n",
      "Epoch 77/100\n",
      "38/38 [==============================] - 4s 107ms/step - loss: 9.8347e-04\n",
      "Epoch 78/100\n",
      "38/38 [==============================] - 4s 104ms/step - loss: 9.3286e-04\n",
      "Epoch 79/100\n",
      "38/38 [==============================] - 4s 106ms/step - loss: 9.6577e-04\n",
      "Epoch 80/100\n",
      "38/38 [==============================] - 4s 110ms/step - loss: 9.3164e-04\n",
      "Epoch 81/100\n",
      "38/38 [==============================] - 4s 109ms/step - loss: 0.0016\n",
      "Epoch 82/100\n",
      "38/38 [==============================] - 4s 99ms/step - loss: 0.0012\n",
      "Epoch 83/100\n",
      "38/38 [==============================] - 4s 95ms/step - loss: 8.0320e-04\n",
      "Epoch 84/100\n",
      "38/38 [==============================] - 3s 91ms/step - loss: 0.0013\n",
      "Epoch 85/100\n",
      "38/38 [==============================] - 4s 100ms/step - loss: 0.0011\n",
      "Epoch 86/100\n",
      "38/38 [==============================] - 4s 96ms/step - loss: 0.0011\n",
      "Epoch 87/100\n",
      "38/38 [==============================] - 3s 92ms/step - loss: 0.0010\n",
      "Epoch 88/100\n",
      "38/38 [==============================] - 3s 92ms/step - loss: 9.7254e-04\n",
      "Epoch 89/100\n",
      "38/38 [==============================] - 4s 97ms/step - loss: 0.0011\n",
      "Epoch 90/100\n",
      "38/38 [==============================] - 4s 94ms/step - loss: 9.0282e-04\n",
      "Epoch 91/100\n",
      "38/38 [==============================] - 3s 92ms/step - loss: 9.1004e-04\n",
      "Epoch 92/100\n",
      "38/38 [==============================] - 3s 91ms/step - loss: 0.0013\n",
      "Epoch 93/100\n",
      "38/38 [==============================] - 3s 90ms/step - loss: 8.5408e-04\n",
      "Epoch 94/100\n",
      "38/38 [==============================] - 3s 90ms/step - loss: 0.0012: 1s -\n",
      "Epoch 95/100\n",
      "38/38 [==============================] - 4s 98ms/step - loss: 8.9873e-04\n",
      "Epoch 96/100\n",
      "38/38 [==============================] - 4s 99ms/step - loss: 7.8683e-04\n",
      "Epoch 97/100\n",
      "38/38 [==============================] - 4s 101ms/step - loss: 8.1719e-04\n",
      "Epoch 98/100\n",
      "38/38 [==============================] - 4s 98ms/step - loss: 9.6938e-04\n",
      "Epoch 99/100\n"
     ]
    },
    {
     "name": "stdout",
     "output_type": "stream",
     "text": [
      "38/38 [==============================] - 4s 102ms/step - loss: 0.0011\n",
      "Epoch 100/100\n",
      "38/38 [==============================] - 4s 99ms/step - loss: 0.0011\n"
     ]
    },
    {
     "data": {
      "text/plain": [
       "<keras.callbacks.History at 0x23ba8795f40>"
      ]
     },
     "execution_count": 24,
     "metadata": {},
     "output_type": "execute_result"
    }
   ],
   "source": [
    "regressor.fit(X_train, y_train, epochs = 100, batch_size = 32)"
   ]
  },
  {
   "cell_type": "markdown",
   "metadata": {
    "id": "4hRau_lIkrE8"
   },
   "source": [
    "## Part 3 - Making the predictions and visualising the results"
   ]
  },
  {
   "cell_type": "markdown",
   "metadata": {
    "id": "SgJO6qEDksxD"
   },
   "source": [
    "### Getting Test Data ( Real Stock Prices of January 2022)"
   ]
  },
  {
   "cell_type": "code",
   "execution_count": 25,
   "metadata": {
    "executionInfo": {
     "elapsed": 334406,
     "status": "ok",
     "timestamp": 1612968424332,
     "user": {
      "displayName": "Jordan Sauchuk",
      "photoUrl": "",
      "userId": "08387430205938821804"
     },
     "user_tz": 300
    },
    "id": "FmBT2zqukxTz"
   },
   "outputs": [],
   "source": [
    "dataset_test = pd.read_csv('TSLA_Test.csv')\n",
    "real_stock_price = dataset_test.iloc[:, 1:2].values"
   ]
  },
  {
   "cell_type": "code",
   "execution_count": 26,
   "metadata": {},
   "outputs": [
    {
     "data": {
      "text/plain": [
       "20"
      ]
     },
     "execution_count": 26,
     "metadata": {},
     "output_type": "execute_result"
    }
   ],
   "source": [
    "len(real_stock_price)"
   ]
  },
  {
   "cell_type": "markdown",
   "metadata": {
    "id": "GrvrLblxkz42"
   },
   "source": [
    "### Getting the predicted stock prices"
   ]
  },
  {
   "cell_type": "code",
   "execution_count": 27,
   "metadata": {
    "executionInfo": {
     "elapsed": 334264,
     "status": "ok",
     "timestamp": 1612968426016,
     "user": {
      "displayName": "Jordan Sauchuk",
      "photoUrl": "",
      "userId": "08387430205938821804"
     },
     "user_tz": 300
    },
    "id": "emikTvUpk3Ck"
   },
   "outputs": [],
   "source": [
    "dataset_total = pd.concat((dataset_train['Open'], dataset_test['Open']), axis = 0) # vertical concatination\n",
    "inputs = dataset_total[len(dataset_total) - len(dataset_test) - 60:].values #range of inputs we need\n",
    "inputs = inputs.reshape(-1,1)\n",
    "inputs = sc.transform(inputs)\n",
    "X_test = []\n",
    "for i in range(60, 80): # 20 observations of test set + 60 timesteps\n",
    "    X_test.append(inputs[i-60:i, 0])\n",
    "X_test = np.array(X_test)\n",
    "X_test = np.reshape(X_test, (X_test.shape[0], X_test.shape[1], 1))\n",
    "predicted_stock_price = regressor.predict(X_test)\n",
    "predicted_stock_price = sc.inverse_transform(predicted_stock_price) #to get the original scale of the scaled predicted value"
   ]
  },
  {
   "cell_type": "code",
   "execution_count": 28,
   "metadata": {},
   "outputs": [
    {
     "data": {
      "text/plain": [
       "array([[1104.2113 ],\n",
       "       [1110.0204 ],\n",
       "       [1134.5154 ],\n",
       "       [1144.61   ],\n",
       "       [1120.5103 ],\n",
       "       [1091.2075 ],\n",
       "       [1049.3325 ],\n",
       "       [1027.8408 ],\n",
       "       [1033.4481 ],\n",
       "       [1062.4653 ],\n",
       "       [1067.3368 ],\n",
       "       [1057.1764 ],\n",
       "       [1048.4297 ],\n",
       "       [1035.619  ],\n",
       "       [1020.2688 ],\n",
       "       [ 985.047  ],\n",
       "       [ 950.315  ],\n",
       "       [ 935.23944],\n",
       "       [ 933.11035],\n",
       "       [ 913.3836 ]], dtype=float32)"
      ]
     },
     "execution_count": 28,
     "metadata": {},
     "output_type": "execute_result"
    }
   ],
   "source": [
    "predicted_stock_price"
   ]
  },
  {
   "cell_type": "markdown",
   "metadata": {
    "id": "iFTNs3YHk6FQ"
   },
   "source": [
    "### Visualising the results"
   ]
  },
  {
   "cell_type": "code",
   "execution_count": 29,
   "metadata": {
    "colab": {
     "base_uri": "https://localhost:8080/",
     "height": 295
    },
    "executionInfo": {
     "elapsed": 333422,
     "status": "ok",
     "timestamp": 1612968426363,
     "user": {
      "displayName": "Jordan Sauchuk",
      "photoUrl": "",
      "userId": "08387430205938821804"
     },
     "user_tz": 300
    },
    "id": "8OUI8U49k9tH",
    "outputId": "7770140e-ad2e-43f3-d998-7ade2dfc8c5a"
   },
   "outputs": [
    {
     "data": {
      "image/png": "[encoded data removed]",
      "text/plain": [
       "<Figure size 432x288 with 1 Axes>"
      ]
     },
     "metadata": {
      "needs_background": "light"
     },
     "output_type": "display_data"
    }
   ],
   "source": [
    "plt.plot(real_stock_price, color = 'red', label = 'Real Tesla Stock Price')\n",
    "plt.plot(predicted_stock_price, color = 'blue', label = 'Predicted Tesla Stock Price')\n",
    "plt.title('Tesla Stock Price Prediction')\n",
    "plt.xlabel('Time')\n",
    "plt.ylabel('Tesla Stock Price')\n",
    "plt.legend()\n",
    "plt.show()"
   ]
  }
 ],
 "metadata": {
  "colab": {
   "collapsed_sections": [],
   "name": "rnn.ipynb",
   "provenance": [
    {
     "file_id": "1kSzCghOVYABVCU0Z8zswodXTsYe5in5F",
     "timestamp": 1599584060340
    }
   ],
   "toc_visible": true
  },
  "kernelspec": {
   "display_name": "Python 3",
   "language": "python",
   "name": "python3"
  },
  "language_info": {
   "codemirror_mode": {
    "name": "ipython",
    "version": 3
   },
   "file_extension": ".py",
   "mimetype": "text/x-python",
   "name": "python",
   "nbconvert_exporter": "python",
   "pygments_lexer": "ipython3",
   "version": "3.8.3"
  }
 },
 "nbformat": 4,
 "nbformat_minor": 1
}
